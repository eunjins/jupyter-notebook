{
 "metadata": {
  "language_info": {
   "codemirror_mode": {
    "name": "ipython",
    "version": 3
   },
   "file_extension": ".py",
   "mimetype": "text/x-python",
   "name": "python",
   "nbconvert_exporter": "python",
   "pygments_lexer": "ipython3",
   "version": "3.8.5-final"
  },
  "orig_nbformat": 2,
  "kernelspec": {
   "name": "python3",
   "display_name": "Python 3",
   "language": "python"
  }
 },
 "nbformat": 4,
 "nbformat_minor": 2,
 "cells": [
  {
   "source": [
    "## How to install Jupyter Notebook in Visual Studio Code\n",
    "\n",
    "## How to run a Jupyter file(.ipynb) in VSCode\n",
    "\n",
    "cf. https://jupyter.org/install"
   ],
   "cell_type": "markdown",
   "metadata": {}
  },
  {
   "source": [
    "The Anaconda and Jupiter notebooks must already be installed before running the procedure below."
   ],
   "cell_type": "markdown",
   "metadata": {}
  },
  {
   "source": [
    "### $ pip install notebook\n",
    "\n",
    "### Ctrl + Shift + P\n",
    "\n",
    "### \\>Jupyter: Create New Blank Jupyter Notebook"
   ],
   "cell_type": "markdown",
   "metadata": {}
  },
  {
   "source": [
    "Write the code"
   ],
   "cell_type": "markdown",
   "metadata": {}
  },
  {
   "cell_type": "code",
   "execution_count": 1,
   "metadata": {},
   "outputs": [
    {
     "output_type": "stream",
     "name": "stdout",
     "text": [
      "success\n"
     ]
    }
   ],
   "source": [
    "print(\"success\")"
   ]
  }
 ]
}